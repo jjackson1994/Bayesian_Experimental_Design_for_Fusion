{
 "cells": [
  {
   "cell_type": "code",
   "execution_count": null,
   "id": "f297b0c5",
   "metadata": {},
   "outputs": [],
   "source": [
    "expectation <- function(f, p){\n",
    "    f*p \n",
    "}"
   ]
  }
 ],
 "metadata": {
  "kernelspec": {
   "display_name": "R [conda env:Rjags]",
   "language": "R",
   "name": "conda-env-Rjags-r"
  },
  "language_info": {
   "codemirror_mode": "r",
   "file_extension": ".r",
   "mimetype": "text/x-r-source",
   "name": "R",
   "pygments_lexer": "r",
   "version": "4.0.5"
  }
 },
 "nbformat": 4,
 "nbformat_minor": 5
}
